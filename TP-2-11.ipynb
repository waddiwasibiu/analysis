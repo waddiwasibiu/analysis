{
 "cells": [
  {
   "cell_type": "markdown",
   "metadata": {},
   "source": [
    "# Éléments finis - TPs 2 à 11"
   ]
  },
  {
   "cell_type": "markdown",
   "metadata": {},
   "source": [
    "* Quelques librairies Python toujours utiles"
   ]
  },
  {
   "cell_type": "code",
   "execution_count": 1,
   "metadata": {},
   "outputs": [],
   "source": [
    "import numpy as np"
   ]
  },
  {
   "cell_type": "markdown",
   "metadata": {},
   "source": [
    "* Création du maillage de la table 1 du cours avec un champ de déplacement arbitraire"
   ]
  },
  {
   "cell_type": "code",
   "execution_count": 2,
   "metadata": {},
   "outputs": [],
   "source": [
    "nodes = np.array([[0, 0],\n",
    "                  [1, 0],\n",
    "                  [1, 1],\n",
    "                  [0, 1]])\n",
    "\n",
    "elements = np.array([[0, 1, 3],\n",
    "                     [1, 2, 3]])\n",
    "\n",
    "displacements = np.array([[0, 0],\n",
    "                          [0.5, 0],\n",
    "                          [1, 1],\n",
    "                          [0.5, 1]])"
   ]
  },
  {
   "cell_type": "markdown",
   "metadata": {},
   "source": [
    "* Création d'un point $\\mathbf{M}$ en coordonnées de référence pour les tests (par défaut le centre du triangle de référence)"
   ]
  },
  {
   "cell_type": "code",
   "execution_count": 3,
   "metadata": {},
   "outputs": [],
   "source": [
    "Mref = np.array([1/3,1/3])"
   ]
  },
  {
   "cell_type": "markdown",
   "metadata": {},
   "source": [
    "* Création d'une fonction pour évaluer toutes les fonctions de forme du triangle de référence P1 en un point et test de la fonction (section 4.3.1 du cours)"
   ]
  },
  {
   "cell_type": "code",
   "execution_count": 5,
   "metadata": {},
   "outputs": [
    {
     "name": "stdout",
     "output_type": "stream",
     "text": [
      "[1 0 0]\n",
      "[0 1 0]\n",
      "[0 0 1]\n",
      "[0.33333333 0.33333333 0.33333333]\n"
     ]
    }
   ],
   "source": [
    "def Nref_triangle_P1(xref):\n",
    "    Nref = np.array([1-xref[0]-xref[1],\n",
    "                     xref[0],\n",
    "                     xref[1]])\n",
    "    return Nref\n",
    "\n",
    "print(Nref_triangle_P1(np.array([0,0])))\n",
    "print(Nref_triangle_P1(np.array([1,0])))\n",
    "print(Nref_triangle_P1(np.array([0,1])))\n",
    "print(Nref_triangle_P1(Mref))\n",
    "\n",
    "# sortie de output_2.txt pour FE-JAM TP 2\n",
    "np.savetxt(\"output_2.txt\", Nref_triangle_P1(Mref).reshape(-1), '%.8e', delimiter='\\n', newline='\\n')"
   ]
  },
  {
   "cell_type": "markdown",
   "metadata": {},
   "source": [
    "* Création d'une fonction interpolant le champ de déplacement au point $\\mathbf{M}$ pour un triangle donné et test de la fonction (équation (5) et exemple 5 du cours)"
   ]
  },
  {
   "cell_type": "code",
   "execution_count": 6,
   "metadata": {},
   "outputs": [
    {
     "name": "stdout",
     "output_type": "stream",
     "text": [
      "[0.33333333 0.33333333]\n",
      "[0.66666667 0.66666667]\n"
     ]
    }
   ],
   "source": [
    "def interpolate_displacement(nodes, K, displacements, Nref):\n",
    "    nb_nodes_loc = K.shape[0]\n",
    "    #for u0_M,K.shape[0]=3\n",
    "    dimension = nodes.shape[1]\n",
    "    #for displacements,nodes.shape[1]=2\n",
    "    u = np.zeros(dimension)\n",
    "    #u est un vecteur\n",
    "    for i in range(0,dimension):\n",
    "        for nloc in range(0,nb_nodes_loc):\n",
    "            n = K[nloc]\n",
    "            u[i] = u[i] + Nref[nloc]*displacements[n][i]\n",
    "    return u\n",
    "\n",
    "u0_M = interpolate_displacement(nodes, elements[0,:], displacements, Nref_triangle_P1(Mref))\n",
    "print(u0_M)\n",
    "u1_M = interpolate_displacement(nodes, elements[1,:], displacements, Nref_triangle_P1(Mref))\n",
    "print(u1_M)\n",
    "\n",
    "# sortie de output_3.txt pour FE-JAM TP 3\n",
    "np.savetxt(\"output_3.txt\", np.array([u0_M,u1_M]).reshape(-1), '%.8e', delimiter='\\n', newline='\\n')"
   ]
  },
  {
   "cell_type": "markdown",
   "metadata": {},
   "source": [
    "* Création d'une fonction pour évaluer les gradients de toutes les fonctions de forme du triangle de référence P1 en un point et test de la fonction (section 4.3.1 du cours)"
   ]
  },
  {
   "cell_type": "code",
   "execution_count": null,
   "metadata": {},
   "outputs": [],
   "source": [
    "def gradNref_triangle_P1(xref):\n",
    "    gradNref = np.array([[???, ???],\n",
    "                         [???, ???],\n",
    "                         [???, ???]])\n",
    "    return gradNref\n",
    "\n",
    "print(gradNref_triangle_P1(Mref))\n",
    "\n",
    "# sortie de output_4.txt pour FE-JAM TP 4\n",
    "np.savetxt(\"output_4.txt\", gradNref_triangle_P1(Mref).reshape(-1), '%.8e', delimiter='\\n', newline='\\n')"
   ]
  },
  {
   "cell_type": "markdown",
   "metadata": {},
   "source": [
    "* Création d'une fonction pour calculer le gradient de la transformation $\\mathbf{F}$ et test de la fonction (équation (7) du cours)"
   ]
  },
  {
   "cell_type": "code",
   "execution_count": null,
   "metadata": {},
   "outputs": [],
   "source": [
    "def compute_gradF(nodes, K, gradNref):\n",
    "    nb_nodes_loc = K.shape[0]\n",
    "    dimension = nodes.shape[1]\n",
    "    gradF = np.zeros(???)\n",
    "    for i in range(0,???):\n",
    "        for j in range(0,???):\n",
    "            for nloc in range(0,???):\n",
    "                n = K[nloc]\n",
    "                gradF[i,j] = gradF[i,j] + ???\n",
    "    return gradF\n",
    "\n",
    "gradF0_M = compute_gradF(nodes, elements[0,:], gradNref_triangle_P1(Mref))\n",
    "print(gradF0_M)\n",
    "gradF1_M = compute_gradF(nodes, elements[1,:], gradNref_triangle_P1(Mref))\n",
    "print(gradF1_M)\n",
    "\n",
    "# sortie de output_5.txt pour FE-JAM TP 5\n",
    "np.savetxt(\"output_5.txt\", np.array([gradF0_M,gradF1_M]).reshape(-1), '%.8e', delimiter='\\n', newline='\\n')"
   ]
  },
  {
   "cell_type": "markdown",
   "metadata": {},
   "source": [
    "* Création d'une fonction pour calculer les gradients de toutes les fonctions de forme d'un triangle P1 et test de la fonction (équation (8) du cours)"
   ]
  },
  {
   "cell_type": "code",
   "execution_count": null,
   "metadata": {},
   "outputs": [],
   "source": [
    "def compute_gradN(K, gradF, gradNref):\n",
    "    gradN = ???\n",
    "    return gradN\n",
    "\n",
    "gradN0_M = compute_gradN(elements[0,:], gradF0_M, gradNref_triangle_P1(Mref))\n",
    "print(gradN0_M)\n",
    "gradN1_M = compute_gradN(elements[1,:], gradF1_M, gradNref_triangle_P1(Mref))\n",
    "print(gradN1_M)\n",
    "\n",
    "# sortie de output_6.txt pour FE-JAM TP 6\n",
    "np.savetxt(\"output_6.txt\", np.array([gradN0_M,gradN1_M]).reshape(-1), '%.8e', delimiter='\\n', newline='\\n')"
   ]
  },
  {
   "cell_type": "markdown",
   "metadata": {},
   "source": [
    "* Création d'une fonction interpolant le gradient du champ de déplacement au point $\\mathbf{M}$ pour un triangle donné et test de la fonction (équation (9) et exemple 6 du cours)"
   ]
  },
  {
   "cell_type": "code",
   "execution_count": null,
   "metadata": {},
   "outputs": [],
   "source": [
    "def interpolate_grad_displacement(nodes, K, displacements, gradN):\n",
    "    nb_nodes_loc = K.shape[0]\n",
    "    dimension = nodes.shape[1]\n",
    "    gradu = np.zeros(???)\n",
    "    for i in range(0,???):\n",
    "        for j in range(0,???):\n",
    "            for nloc in range(0,???):\n",
    "                n = K[nloc]\n",
    "                gradu[i,j] = gradu[i,j] + ???\n",
    "    return gradu\n",
    "\n",
    "gradu0_M = interpolate_grad_displacement(nodes, elements[0,:], displacements, gradN0_M)\n",
    "print(gradu0_M)\n",
    "gradu1_M = interpolate_grad_displacement(nodes, elements[1,:], displacements, gradN1_M)\n",
    "print(gradu1_M)\n",
    "\n",
    "# sortie de output_7.txt pour FE-JAM TP 7\n",
    "np.savetxt(\"output_7.txt\", np.array([gradu0_M,gradu1_M]).reshape(-1), '%.8e', delimiter='\\n', newline='\\n')"
   ]
  },
  {
   "cell_type": "markdown",
   "metadata": {},
   "source": [
    "* Réglage du champ de déplacement et des degrés de liberté (section 4.3 du cours)"
   ]
  },
  {
   "cell_type": "code",
   "execution_count": null,
   "metadata": {},
   "outputs": [],
   "source": [
    "displacements = np.array([[0, 0],\n",
    "                          [0, 0],\n",
    "                          [0, 0.01],\n",
    "                          [0, 0.01]])\n",
    "dofs = np.array([[0, 0],\n",
    "                 [1, 0],\n",
    "                 [1, 0],\n",
    "                 [0, 0]])"
   ]
  },
  {
   "cell_type": "markdown",
   "metadata": {},
   "source": [
    "* Récupération du tenseur d'ordre 4 $\\tilde{\\mathbb{C}}$ des TPs précédents"
   ]
  },
  {
   "cell_type": "code",
   "execution_count": null,
   "metadata": {},
   "outputs": [],
   "source": [
    "def produit_tensoriel(u,v):\n",
    "    res = np.zeros((u.shape[0],v.shape[0]))\n",
    "    for i in range(0,u.shape[0]):\n",
    "        for j in range(0,v.shape[0]):\n",
    "            res[i,j] = u[i]*v[j]\n",
    "    return res\n",
    "I2 = np.eye(2)\n",
    "I4s = np.zeros((2,2,2,2))\n",
    "for i in range(0,2):\n",
    "    for j in range(0,2):\n",
    "       for k in range(0,2):\n",
    "            for l in range(0,2):\n",
    "                I4s[i,j,k,l] = 0.5*((i == k) * (j == l) + (i == l) * (j == k))\n",
    "_mu = 4\n",
    "_lambda = 2\n",
    "C_elastic_s = 2*_mu*I4s + _lambda*produit_tensoriel(I2.reshape(2*2),I2.reshape(2*2)).reshape(2,2,2,2)\n",
    "print(C_elastic_s.reshape(2*2,2*2))"
   ]
  },
  {
   "cell_type": "markdown",
   "metadata": {},
   "source": [
    "* Calcul des matrices et vecteurs de contributions locales (sections 3.2.2 et 4.3.4 du cours) puis assemblage dans la matrice et le vecteur globaux (sections 3.2.3 et 4.3.5 du cours)"
   ]
  },
  {
   "cell_type": "code",
   "execution_count": null,
   "metadata": {},
   "outputs": [],
   "source": [
    "dimension = nodes.shape[1]\n",
    "nb_nodes = nodes.shape[0]\n",
    "nb_elements = elements.shape[0]\n",
    "nb_nodes_per_element = elements.shape[1]\n",
    "\n",
    "matKlocs = np.zeros((nb_elements,nb_nodes_per_element,dimension,nb_nodes_per_element,dimension))\n",
    "vecBlocs = np.zeros((nb_elements,nb_nodes_per_element,dimension))\n",
    "\n",
    "matK = np.zeros(???)\n",
    "vecB = np.zeros(???)\n",
    "\n",
    "for id_element in range(0,nb_elements):\n",
    "    K = elements[id_element,:]\n",
    "    print(\"Contributions de l'élément \"+str(K)+\" :\")\n",
    "    \n",
    "    # calcul des matrices et vecteurs de contributions locales\n",
    "    # on se restreint à un point de quadrature de coordonnées xref et de poids wref\n",
    "    xref = np.array([1/3,1/3])\n",
    "    wref = 0.5\n",
    "    gradNref_q = gradNref_triangle_P1(xref)\n",
    "    gradF_q = compute_gradF(nodes,K, gradNref_q)\n",
    "    gradN_q = compute_gradN(K, gradF_q, gradNref_q)\n",
    "    detF_q = np.linalg.det(gradF_q)\n",
    "    \n",
    "    matKloc = np.zeros(???)\n",
    "    vecBloc = np.zeros(???)\n",
    "    for mloc in range(0,???):\n",
    "        for i in range(0,???):\n",
    "            for nloc in range(0,???):\n",
    "                for k in range(0,???):\n",
    "                   for j in range(0,???):\n",
    "                      for l in range(0,???):\n",
    "                            matKloc[mloc,i,nloc,k] = matKloc[mloc,i,nloc,k] \\\n",
    "                                + ???\n",
    "    print(matKloc.reshape(???,???))\n",
    "    print(vecBloc.reshape(???,1))\n",
    "    matKlocs[id_element,:,:,:,:] = matKloc\n",
    "    vecBlocs[id_element,:,:] = vecBloc\n",
    "    \n",
    "    # assemblage vers la matrice et le vecteur globaux\n",
    "    for mloc in range(0,???):\n",
    "        m = ???\n",
    "        for i in range(0,???):\n",
    "            for nloc in range(0,???):\n",
    "                n = ???\n",
    "                for k in range(0,???):\n",
    "                    matK[m,i,n,k] = matK[m,i,n,k] + ???\n",
    "            vecB[m,i] = vecB[m,i] + ???\n",
    "\n",
    "print(\"Matrice et vecteur globaux :\")\n",
    "print(matK.reshape(???,???))\n",
    "print(vecB.reshape(???,1))\n",
    "\n",
    "# sortie de output_8.txt pour FE-JAM TP 8\n",
    "np.savetxt(\"output_8.txt\", matKlocs.reshape(-1), '%.8e', delimiter='\\n', newline='\\n')\n",
    "# sortie de output_9.txt pour FE-JAM TP 9\n",
    "np.savetxt(\"output_9.txt\", matK.reshape(-1), '%.8e', delimiter='\\n', newline='\\n')"
   ]
  },
  {
   "cell_type": "markdown",
   "metadata": {},
   "source": [
    "* Implémentation des conditions aux limites de Dirichlet (sections 3.2.3 et et 4.3.5 du cours)"
   ]
  },
  {
   "cell_type": "code",
   "execution_count": null,
   "metadata": {},
   "outputs": [],
   "source": [
    "matKtilde = matK.copy()\n",
    "vecBtilde = vecB.copy()\n",
    "for m in range(0,???):\n",
    "    for i in range(0,???):\n",
    "        if(dofs[m,i] == 0):\n",
    "            ???\n",
    "\n",
    "matKtilde = matKtilde.reshape(???,???)\n",
    "vecBtilde = vecBtilde.reshape(???,1)\n",
    "print(matKtilde)\n",
    "print(vecBtilde)\n",
    "\n",
    "# sortie de output_10.txt pour FE-JAM TP 10\n",
    "np.savetxt(\"output_10.txt\", np.concatenate((matKtilde,vecBtilde),axis=1).reshape(-1), '%.8e', delimiter='\\n', newline='\\n')"
   ]
  },
  {
   "cell_type": "markdown",
   "metadata": {},
   "source": [
    "* Résolution du système linéaire et calcul des forces nodales"
   ]
  },
  {
   "cell_type": "code",
   "execution_count": null,
   "metadata": {},
   "outputs": [],
   "source": [
    "displacements = np.linalg.solve(matKtilde, vecBtilde).reshape(???,???)\n",
    "print(\"Déplacements :\")\n",
    "print(displacements)\n",
    "\n",
    "forces = ???\n",
    "forces = forces.reshape(???,???)\n",
    "print(\"Forces :\")\n",
    "print(forces)\n",
    "\n",
    "# sortie de output_11.txt pour FE-JAM TP 11\n",
    "np.savetxt(\"output_11.txt\", forces.reshape(-1), '%.8e', delimiter='\\n', newline='\\n')"
   ]
  },
  {
   "cell_type": "code",
   "execution_count": null,
   "metadata": {},
   "outputs": [],
   "source": []
  }
 ],
 "metadata": {
  "kernelspec": {
   "display_name": "Python 3 (ipykernel)",
   "language": "python",
   "name": "python3"
  },
  "language_info": {
   "codemirror_mode": {
    "name": "ipython",
    "version": 3
   },
   "file_extension": ".py",
   "mimetype": "text/x-python",
   "name": "python",
   "nbconvert_exporter": "python",
   "pygments_lexer": "ipython3",
   "version": "3.13.5"
  }
 },
 "nbformat": 4,
 "nbformat_minor": 4
}
